{
 "cells": [
  {
   "cell_type": "code",
   "execution_count": null,
   "id": "a2d6428b",
   "metadata": {},
   "outputs": [],
   "source": [
    "!pip install rudalle==1.1.3"
   ]
  },
  {
   "cell_type": "code",
   "execution_count": null,
   "id": "4acd9350",
   "metadata": {},
   "outputs": [],
   "source": [
    "from pipelines import generate_queries\n",
    "from PIL import Image\n",
    "from typing import List"
   ]
  },
  {
   "cell_type": "markdown",
   "id": "e0d4661e",
   "metadata": {},
   "source": [
    "## Generations"
   ]
  },
  {
   "cell_type": "code",
   "execution_count": null,
   "id": "1466070b",
   "metadata": {},
   "outputs": [],
   "source": [
    "from rudalle.pipelines import generate_images\n",
    "from rudalle import get_rudalle_model, get_tokenizer, get_vae\n",
    "\n",
    "# prepare models:\n",
    "device = 'cuda'\n",
    "dalle = get_rudalle_model('Malevich', pretrained=True, fp16=True, device=device)\n",
    "tokenizer = get_tokenizer()\n",
    "vae = get_vae(dwt=True).to(device)"
   ]
  },
  {
   "cell_type": "code",
   "execution_count": null,
   "id": "4bf0f201",
   "metadata": {},
   "outputs": [],
   "source": [
    "def generate_for_query(query: str) -> List[Image.Image]:\n",
    "    pil_images, scores = generate_images(\n",
    "        query, tokenizer, dalle, vae, images_num=16, bs=16, top_k=4096, top_p=0.975\n",
    "    ) \n",
    "    return pil_images"
   ]
  },
  {
   "cell_type": "code",
   "execution_count": null,
   "id": "1268d800",
   "metadata": {},
   "outputs": [],
   "source": [
    "queries = [\n",
    "    'радуга на фоне ночного города',\n",
    "    'милый котик лежит на диване',\n",
    "    'белый кролик в лесу'\n",
    "]"
   ]
  },
  {
   "cell_type": "code",
   "execution_count": null,
   "id": "b1baceb7",
   "metadata": {},
   "outputs": [],
   "source": [
    "generate_queries(\n",
    "    generate_for_query, queries,\n",
    "    save_folder=\"results/\",\n",
    "    grid_nrow=4\n",
    ")"
   ]
  },
  {
   "cell_type": "markdown",
   "id": "434fe3ac",
   "metadata": {},
   "source": [
    "## Super resolution"
   ]
  },
  {
   "cell_type": "code",
   "execution_count": null,
   "id": "2fe235ff",
   "metadata": {},
   "outputs": [],
   "source": [
    "from PIL import Image\n",
    "from rudalle.pipelines import super_resolution\n",
    "from rudalle import get_realesrgan"
   ]
  },
  {
   "cell_type": "code",
   "execution_count": null,
   "id": "524e8838",
   "metadata": {},
   "outputs": [],
   "source": [
    "realesrgan = get_realesrgan('x4', device='cuda')"
   ]
  },
  {
   "cell_type": "code",
   "execution_count": null,
   "id": "90b46cb9",
   "metadata": {},
   "outputs": [],
   "source": [
    "def superres_image(pil_image: Image.Image) -> Image.Image:\n",
    "    sr_images = super_resolution([pil_image], realesrgan)\n",
    "    return sr_images[0]"
   ]
  },
  {
   "cell_type": "code",
   "execution_count": null,
   "id": "fc09c947",
   "metadata": {},
   "outputs": [],
   "source": [
    "from pipelines import superres_folder"
   ]
  },
  {
   "cell_type": "code",
   "execution_count": null,
   "id": "885e3d43",
   "metadata": {},
   "outputs": [],
   "source": [
    "superres_folder(\n",
    "    superres_image, 'results/'\n",
    ")"
   ]
  },
  {
   "cell_type": "code",
   "execution_count": null,
   "id": "98709fd6",
   "metadata": {},
   "outputs": [],
   "source": []
  }
 ],
 "metadata": {
  "kernelspec": {
   "display_name": "Python 3 (ipykernel)",
   "language": "python",
   "name": "python3"
  },
  "language_info": {
   "codemirror_mode": {
    "name": "ipython",
    "version": 3
   },
   "file_extension": ".py",
   "mimetype": "text/x-python",
   "name": "python",
   "nbconvert_exporter": "python",
   "pygments_lexer": "ipython3",
   "version": "3.7.12"
  }
 },
 "nbformat": 4,
 "nbformat_minor": 5
}
