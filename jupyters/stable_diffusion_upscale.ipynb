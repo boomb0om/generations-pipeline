{
 "cells": [
  {
   "cell_type": "code",
   "execution_count": null,
   "id": "c7717da2",
   "metadata": {
    "scrolled": true
   },
   "outputs": [],
   "source": [
    "!git clone https://github.com/CompVis/latent-diffusion.git\n",
    "!git clone https://github.com/CompVis/taming-transformers\n",
    "!pip install -e ./taming-transformers\n",
    "!pip install omegaconf>=2.0.0 pytorch-lightning==1.6.5 torch-fidelity einops"
   ]
  },
  {
   "cell_type": "code",
   "execution_count": null,
   "id": "9287a60b",
   "metadata": {},
   "outputs": [],
   "source": [
    "import sys\n",
    "sys.path.append(\"../\")\n",
    "sys.path.append('./taming-transformers')\n",
    "from taming.models import vqgan\n",
    "sys.path.append(\"./latent-diffusion\")\n",
    "from IPython.display import display"
   ]
  },
  {
   "cell_type": "code",
   "execution_count": null,
   "id": "b055609f",
   "metadata": {},
   "outputs": [],
   "source": [
    "import torch\n",
    "from PIL import Image\n",
    "from models.stable_diffusion_upscale import StableDiffusionUpscaler"
   ]
  },
  {
   "cell_type": "code",
   "execution_count": null,
   "id": "73c86303",
   "metadata": {},
   "outputs": [],
   "source": [
    "device = torch.device('cuda:0')\n",
    "model = StableDiffusionUpscaler(device)"
   ]
  },
  {
   "cell_type": "code",
   "execution_count": null,
   "id": "39c50606",
   "metadata": {},
   "outputs": [],
   "source": [
    "from pipelines import superres_folder"
   ]
  },
  {
   "cell_type": "code",
   "execution_count": null,
   "id": "9cc628f1",
   "metadata": {
    "scrolled": true
   },
   "outputs": [],
   "source": [
    "superres_folder(model.upscale, '../results')"
   ]
  },
  {
   "cell_type": "code",
   "execution_count": null,
   "id": "681b90ad",
   "metadata": {},
   "outputs": [],
   "source": []
  }
 ],
 "metadata": {
  "kernelspec": {
   "display_name": "Python 3 (ipykernel)",
   "language": "python",
   "name": "python3"
  },
  "language_info": {
   "codemirror_mode": {
    "name": "ipython",
    "version": 3
   },
   "file_extension": ".py",
   "mimetype": "text/x-python",
   "name": "python",
   "nbconvert_exporter": "python",
   "pygments_lexer": "ipython3",
   "version": "3.7.12"
  }
 },
 "nbformat": 4,
 "nbformat_minor": 5
}
