{
 "cells": [
  {
   "cell_type": "code",
   "execution_count": null,
   "id": "7564454c",
   "metadata": {
    "scrolled": true
   },
   "outputs": [],
   "source": [
    "!pip install rudalle"
   ]
  },
  {
   "cell_type": "code",
   "execution_count": null,
   "id": "c562a2ea",
   "metadata": {},
   "outputs": [],
   "source": [
    "from rudalle.pipelines import super_resolution\n",
    "from rudalle import get_realesrgan"
   ]
  },
  {
   "cell_type": "code",
   "execution_count": null,
   "id": "93fcad1a",
   "metadata": {},
   "outputs": [],
   "source": [
    "device = 'cuda'\n",
    "realesrgan = get_realesrgan('x2', device=device)"
   ]
  },
  {
   "cell_type": "code",
   "execution_count": null,
   "id": "a72586a3",
   "metadata": {},
   "outputs": [],
   "source": [
    "def upscale(pil_img):\n",
    "    pil_images = super_resolution([pil_img], realesrgan)\n",
    "    return pil_images[0]"
   ]
  },
  {
   "cell_type": "code",
   "execution_count": null,
   "id": "0ede440b",
   "metadata": {},
   "outputs": [],
   "source": [
    "import sys\n",
    "sys.path.append('../')\n",
    "from pipelines import superres_folder"
   ]
  },
  {
   "cell_type": "code",
   "execution_count": null,
   "id": "6eb2e233",
   "metadata": {},
   "outputs": [],
   "source": [
    "superres_folder(upscale, '../results/')"
   ]
  },
  {
   "cell_type": "code",
   "execution_count": null,
   "id": "5c53333c",
   "metadata": {},
   "outputs": [],
   "source": []
  }
 ],
 "metadata": {
  "kernelspec": {
   "display_name": "Python 3 (ipykernel)",
   "language": "python",
   "name": "python3"
  },
  "language_info": {
   "codemirror_mode": {
    "name": "ipython",
    "version": 3
   },
   "file_extension": ".py",
   "mimetype": "text/x-python",
   "name": "python",
   "nbconvert_exporter": "python",
   "pygments_lexer": "ipython3",
   "version": "3.7.12"
  }
 },
 "nbformat": 4,
 "nbformat_minor": 5
}
